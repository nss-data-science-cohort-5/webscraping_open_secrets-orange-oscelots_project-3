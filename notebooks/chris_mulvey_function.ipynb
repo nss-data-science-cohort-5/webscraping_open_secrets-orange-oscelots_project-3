{
 "cells": [
  {
   "cell_type": "markdown",
   "id": "4b12fef1",
   "metadata": {},
   "source": [
    "Notebook created on 16 October 2021 by Chris Mulvey  \n",
    "For NSS Data Science Bootcamp"
   ]
  },
  {
   "cell_type": "code",
   "execution_count": 1,
   "id": "95719c93",
   "metadata": {},
   "outputs": [],
   "source": [
    "import pandas as pd\n",
    "import numpy as np\n",
    "import matplotlib.pyplot as plt\n",
    "import requests\n",
    "from bs4 import BeautifulSoup as BS\n",
    "from tqdm.notebook import tqdm\n",
    "import time"
   ]
  },
  {
   "cell_type": "markdown",
   "id": "a1302a8d",
   "metadata": {},
   "source": [
    "### Working out a function to get all of the districts in a state"
   ]
  },
  {
   "cell_type": "markdown",
   "id": "26a65496",
   "metadata": {},
   "source": [
    "#### Reading in state and district info from a previous webscrape"
   ]
  },
  {
   "cell_type": "code",
   "execution_count": 2,
   "id": "511debb2",
   "metadata": {},
   "outputs": [
    {
     "data": {
      "text/html": [
       "<div>\n",
       "<style scoped>\n",
       "    .dataframe tbody tr th:only-of-type {\n",
       "        vertical-align: middle;\n",
       "    }\n",
       "\n",
       "    .dataframe tbody tr th {\n",
       "        vertical-align: top;\n",
       "    }\n",
       "\n",
       "    .dataframe thead th {\n",
       "        text-align: right;\n",
       "    }\n",
       "</style>\n",
       "<table border=\"1\" class=\"dataframe\">\n",
       "  <thead>\n",
       "    <tr style=\"text-align: right;\">\n",
       "      <th></th>\n",
       "      <th>state</th>\n",
       "      <th>representatives</th>\n",
       "      <th>Code</th>\n",
       "    </tr>\n",
       "  </thead>\n",
       "  <tbody>\n",
       "    <tr>\n",
       "      <th>0</th>\n",
       "      <td>Alabama</td>\n",
       "      <td>7</td>\n",
       "      <td>AL</td>\n",
       "    </tr>\n",
       "    <tr>\n",
       "      <th>1</th>\n",
       "      <td>Alaska</td>\n",
       "      <td>1</td>\n",
       "      <td>AK</td>\n",
       "    </tr>\n",
       "    <tr>\n",
       "      <th>2</th>\n",
       "      <td>Arizona</td>\n",
       "      <td>9</td>\n",
       "      <td>AZ</td>\n",
       "    </tr>\n",
       "    <tr>\n",
       "      <th>3</th>\n",
       "      <td>Arkansas</td>\n",
       "      <td>4</td>\n",
       "      <td>AR</td>\n",
       "    </tr>\n",
       "    <tr>\n",
       "      <th>4</th>\n",
       "      <td>California</td>\n",
       "      <td>53</td>\n",
       "      <td>CA</td>\n",
       "    </tr>\n",
       "  </tbody>\n",
       "</table>\n",
       "</div>"
      ],
      "text/plain": [
       "        state  representatives Code\n",
       "0     Alabama                7   AL\n",
       "1      Alaska                1   AK\n",
       "2     Arizona                9   AZ\n",
       "3    Arkansas                4   AR\n",
       "4  California               53   CA"
      ]
     },
     "execution_count": 2,
     "metadata": {},
     "output_type": "execute_result"
    }
   ],
   "source": [
    "districts = pd.read_csv('../data/district_info.csv')\n",
    "\n",
    "districts.head()"
   ]
  },
  {
   "cell_type": "markdown",
   "id": "b445f975",
   "metadata": {},
   "source": [
    "### The URL has state and district number in it `id=TN02`"
   ]
  },
  {
   "cell_type": "code",
   "execution_count": null,
   "id": "cafe3f96",
   "metadata": {},
   "outputs": [],
   "source": [
    "url = 'https://www.opensecrets.org/races/summary?cycle=2020&id=TN02&spec=N'"
   ]
  },
  {
   "cell_type": "code",
   "execution_count": null,
   "id": "8e69e28b",
   "metadata": {},
   "outputs": [],
   "source": [
    "url = 'https://www.opensecrets.org/races/summary?cycle=2020&id='+ state + district'&spec=N'"
   ]
  },
  {
   "cell_type": "markdown",
   "id": "da95cd70",
   "metadata": {},
   "source": [
    "### Function to get candidate info for a single state and district"
   ]
  },
  {
   "cell_type": "code",
   "execution_count": null,
   "id": "75661b26",
   "metadata": {},
   "outputs": [],
   "source": [
    "def get_district_candidates(state, district):\n",
    "    url = 'https://www.opensecrets.org/races/summary?cycle=2020&id='+ state + district + '&spec=N'\n",
    "    response = requests.get(url)\n",
    "    soup = BS(response.text)\n",
    "    try:\n",
    "        candidates = pd.read_html(str(soup.find('table')))[0]\n",
    "    except:\n",
    "        print(response.headers) #prints out the header to help troubleshoot HTTP errors\n",
    "    candidates['state'] = state\n",
    "    candidates['district'] = district\n",
    "    candidates['year'] = year\n",
    "    \n",
    "    return candidates"
   ]
  },
  {
   "cell_type": "code",
   "execution_count": null,
   "id": "a93a406e",
   "metadata": {},
   "outputs": [],
   "source": [
    "get_district_candidates('TN', str('0' + '3'))"
   ]
  },
  {
   "cell_type": "markdown",
   "id": "0f9b58dd",
   "metadata": {},
   "source": [
    "### Now to bring in more states"
   ]
  },
  {
   "cell_type": "code",
   "execution_count": null,
   "id": "89e42b25",
   "metadata": {},
   "outputs": [],
   "source": [
    "state_dist = pd.DataFrame()\n",
    "\n",
    "for index in tqdm(districts.index):\n",
    "    state = districts['Code'][index]\n",
    "    dist_no = districts['representatives'][index]\n",
    "    \n",
    "    if index == 10:\n",
    "        time.sleep(70)\n",
    "    elif index == 20:\n",
    "        time.sleep(70)\n",
    "    elif index == 30:\n",
    "        time.sleep(70)\n",
    "    elif index == 40:\n",
    "        time.sleep(70)\n",
    "    \n",
    "    for i in range(1, dist_no + 1):\n",
    "        if i < 10:\n",
    "            i = '0' + str(i)\n",
    "            \n",
    "        state_dist = state_dist.append(get_district_candidates(str(state), str(i)),\n",
    "                                      ignore_index = True)\n",
    "            "
   ]
  },
  {
   "cell_type": "code",
   "execution_count": null,
   "id": "7e9749de",
   "metadata": {},
   "outputs": [],
   "source": [
    "state_dist.info()"
   ]
  },
  {
   "cell_type": "code",
   "execution_count": null,
   "id": "110ed4c5",
   "metadata": {},
   "outputs": [],
   "source": [
    "state_dist.to_csv('../data/all_state.csv',\n",
    "                 index = False)"
   ]
  },
  {
   "cell_type": "markdown",
   "id": "97c8f577",
   "metadata": {},
   "source": [
    "### Troubleshooting error"
   ]
  },
  {
   "cell_type": "code",
   "execution_count": null,
   "id": "e4e3559a",
   "metadata": {},
   "outputs": [],
   "source": [
    "districts.loc[43]"
   ]
  },
  {
   "cell_type": "code",
   "execution_count": null,
   "id": "3614e6d0",
   "metadata": {},
   "outputs": [],
   "source": [
    "for i in range(1, 4):\n",
    "    if i < 10:\n",
    "        i = '0' + str(i)\n",
    "        \n",
    "    print(get_district_candidates('UT', str(i)))"
   ]
  },
  {
   "cell_type": "code",
   "execution_count": null,
   "id": "4a019e95",
   "metadata": {},
   "outputs": [],
   "source": [
    "i = 3\n",
    "\n",
    "if i < 10:\n",
    "    i = '0' + str(i)\n",
    "    print(str(i))"
   ]
  },
  {
   "cell_type": "markdown",
   "id": "32f7ed53",
   "metadata": {},
   "source": [
    "## Building function to properly set up columns"
   ]
  },
  {
   "cell_type": "code",
   "execution_count": null,
   "id": "678e3393",
   "metadata": {},
   "outputs": [],
   "source": [
    "def fix_columns(df):\n",
    "    df['party'] = df['Candidate'].str.extract(r'\\((\\w)\\)')\n",
    "    df['incumbent'] = df['Candidate'].str.extract(r'([I]\\w+)')\n",
    "    df['winner'] = df['Candidate'].str.extract(r'([W]\\w+)')\n",
    "    df['candidate'] = df['Candidate'].str.extract(r'(^\\w+\\s\\w+)')\n",
    "\n",
    "    df = df.drop('Candidate',\n",
    "                 axis = 1)\n",
    "    \n",
    "    df = df[['candidate',\n",
    "             'party',\n",
    "             'state',\n",
    "             'district',\n",
    "             'incumbent',\n",
    "             'winner',\n",
    "             'Raised',\n",
    "             'Spent',\n",
    "             'year']]\n",
    "         \n",
    "    df = df.rename(columns = {\n",
    "        'Raised': 'raised',\n",
    "        'Spent': 'spent'\n",
    "    })\n",
    "    \n",
    "    return df"
   ]
  },
  {
   "cell_type": "markdown",
   "id": "ca5841f5",
   "metadata": {},
   "source": [
    "## Building a function to run it all and get data for other years as well"
   ]
  },
  {
   "cell_type": "code",
   "execution_count": 3,
   "id": "57017403",
   "metadata": {},
   "outputs": [],
   "source": [
    "def get_all_reps_time(df, st_col, rep_col, year):\n",
    "    \"\"\"Takes in a DataFrame that holds the number of representatives per state and the year to\n",
    "    pull data for from opersecrets.org and returns a dataframe of nationwide candidates and\n",
    "    associated info.\n",
    "    \n",
    "    df: Variable name for the DataFrame that holds the state and number of Reps\n",
    "    st_col: the DataFrame column that holds the two-digit state code\n",
    "    rep_col: the DataFrame column that holds the number of reps\n",
    "    year: Needs to be a string and 4 digits.\n",
    "    \"\"\"\n",
    "    \n",
    "    # Defining the function that will set up the columns in the final dataframe\n",
    "    def fix_columns(df):\n",
    "        df['party'] = df['Candidate'].str.extract(r'\\((\\w)\\)')\n",
    "        df['incumbent'] = df['Candidate'].str.extract(r'([I]\\w+)')\n",
    "        df['winner'] = df['Candidate'].str.extract(r'([W]\\w+)')\n",
    "        df['candidate'] = df['Candidate'].str.extract(r'(^\\w+\\s\\w+)')\n",
    "\n",
    "        df = df.drop('Candidate',\n",
    "                 axis = 1)\n",
    "    \n",
    "        df = df[['candidate',\n",
    "                 'party',\n",
    "                 'state',\n",
    "                 'district',\n",
    "                 'incumbent',\n",
    "                 'winner',\n",
    "                 'Raised',\n",
    "                 'Spent',\n",
    "                 'year']]\n",
    "         \n",
    "        df = df.rename(columns = {\n",
    "            'Raised': 'raised',\n",
    "            'Spent': 'spent'\n",
    "        })\n",
    "    \n",
    "        return df\n",
    "    \n",
    "    # Defining the function that will webscrape the candidate info\n",
    "    def get_district_candidates(state, district, year):\n",
    "        url = 'https://www.opensecrets.org/races/summary?cycle=' + year + '&id=' + state + district + '&spec=N'\n",
    "        response = requests.get(url)\n",
    "        soup = BS(response.text)\n",
    "        try:\n",
    "            candidates = pd.read_html(str(soup.find('table')))[0]\n",
    "        except:\n",
    "            print(response.headers) #prints out the header to help troubleshoot HTTP errors\n",
    "        candidates['state'] = state\n",
    "        candidates['district'] = district\n",
    "        candidates['year'] = year\n",
    "    \n",
    "        return candidates\n",
    "    \n",
    "    # Setting up the for loop to get all states for a defined year\n",
    "    \n",
    "    state_dist = pd.DataFrame() # Empty DataFrame for the for loop\n",
    "\n",
    "    for index in tqdm(df.index):\n",
    "        state = df[st_col][index]\n",
    "        dist_no = df[rep_col][index]\n",
    "    \n",
    "        if index == 10:\n",
    "            time.sleep(70)\n",
    "        elif index == 20:\n",
    "            time.sleep(70)\n",
    "        elif index == 30:\n",
    "            time.sleep(70)\n",
    "        elif index == 40:\n",
    "            time.sleep(70)\n",
    "    \n",
    "        for i in range(1, dist_no + 1):\n",
    "            if i < 10:\n",
    "                i = '0' + str(i)\n",
    "            \n",
    "            state_dist = state_dist.append(get_district_candidates(str(year), str(state), str(i)),\n",
    "                                          ignore_index = True)"
   ]
  },
  {
   "cell_type": "code",
   "execution_count": 4,
   "id": "d0de90b7",
   "metadata": {},
   "outputs": [
    {
     "data": {
      "application/vnd.jupyter.widget-view+json": {
       "model_id": "fbe6323af12b4a79bad10419f892e38e",
       "version_major": 2,
       "version_minor": 0
      },
      "text/plain": [
       "  0%|          | 0/50 [00:00<?, ?it/s]"
      ]
     },
     "metadata": {},
     "output_type": "display_data"
    },
    {
     "name": "stdout",
     "output_type": "stream",
     "text": [
      "{'Date': 'Wed, 20 Oct 2021 02:29:07 GMT', 'Content-Type': 'text/html; charset=utf-8', 'Transfer-Encoding': 'chunked', 'Connection': 'keep-alive', 'Cache-Control': 'no-cache', 'Set-Cookie': '_opensecrets_session=713d6fGo8njyTJ5upR6olT3MTSP90A%2B86%2F%2BsA6%2FROBjCAgHsv0jA9dOwqzD5IsgBh7DBX%2FzoOyZZtLov52wv58ynPRcKQ9QALzaMauRdjc%2FvxRAgrCnS6SNK4dXE6VYkXDbicR9ZJfH%2BHban3Exy3dcPOgBzGox2CIBYttzipoiTf54g7TwKlt%2F18hsjapEs2YZwgSozB4sIM1m%2FPoaWhkn5kIiT45eE13L9csffj6Nje2FsnX68109o443MjKXpt2b6GtuQLVr%2FsZzJYtuFDbntMW%2FjautcUbczyg%3D%3D--P2KkauASi%2BtVjRrz--%2FgJF6E3r6uJqO4MkTjBYQQ%3D%3D; path=/; HttpOnly', 'Status': '404 Not Found', 'Strict-Transport-Security': 'max-age=30758400', 'X-Content-Type-Options': 'nosniff', 'X-Download-Options': 'noopen', 'X-Frame-Options': 'DENY', 'X-Permitted-Cross-Domain-Policies': 'none', 'X-Powered-By': 'Phusion Passenger(R) 6.0.8', 'X-RAILS-IP': '10.33.1.190', 'X-Request-Id': '35bce312-7984-4d29-8e8d-1ca861cab2b7', 'X-UA-Compatible': 'IE=edge', 'X-XSS-Protection': '1; mode=block', 'CF-Cache-Status': 'DYNAMIC', 'Expect-CT': 'max-age=604800, report-uri=\"https://report-uri.cloudflare.com/cdn-cgi/beacon/expect-ct\"', 'Server': 'cloudflare', 'CF-RAY': '6a0ed10ecd8063d8-ATL', 'Content-Encoding': 'gzip'}\n"
     ]
    },
    {
     "ename": "UnboundLocalError",
     "evalue": "local variable 'candidates' referenced before assignment",
     "output_type": "error",
     "traceback": [
      "\u001b[1;31m---------------------------------------------------------------------------\u001b[0m",
      "\u001b[1;31mUnboundLocalError\u001b[0m                         Traceback (most recent call last)",
      "\u001b[1;32m~\\AppData\\Local\\Temp/ipykernel_21952/2802973589.py\u001b[0m in \u001b[0;36m<module>\u001b[1;34m\u001b[0m\n\u001b[1;32m----> 1\u001b[1;33m \u001b[0mget_all_reps_time\u001b[0m\u001b[1;33m(\u001b[0m\u001b[0mdistricts\u001b[0m\u001b[1;33m,\u001b[0m \u001b[1;34m'Code'\u001b[0m\u001b[1;33m,\u001b[0m \u001b[1;34m'representatives'\u001b[0m\u001b[1;33m,\u001b[0m \u001b[1;34m'2016'\u001b[0m\u001b[1;33m)\u001b[0m\u001b[1;33m\u001b[0m\u001b[1;33m\u001b[0m\u001b[0m\n\u001b[0m",
      "\u001b[1;32m~\\AppData\\Local\\Temp/ipykernel_21952/3022947542.py\u001b[0m in \u001b[0;36mget_all_reps_time\u001b[1;34m(df, st_col, rep_col, year)\u001b[0m\n\u001b[0;32m     73\u001b[0m                 \u001b[0mi\u001b[0m \u001b[1;33m=\u001b[0m \u001b[1;34m'0'\u001b[0m \u001b[1;33m+\u001b[0m \u001b[0mstr\u001b[0m\u001b[1;33m(\u001b[0m\u001b[0mi\u001b[0m\u001b[1;33m)\u001b[0m\u001b[1;33m\u001b[0m\u001b[1;33m\u001b[0m\u001b[0m\n\u001b[0;32m     74\u001b[0m \u001b[1;33m\u001b[0m\u001b[0m\n\u001b[1;32m---> 75\u001b[1;33m             state_dist = state_dist.append(get_district_candidates(str(year), str(state), str(i)),\n\u001b[0m\u001b[0;32m     76\u001b[0m                                           ignore_index = True)\n",
      "\u001b[1;32m~\\AppData\\Local\\Temp/ipykernel_21952/3022947542.py\u001b[0m in \u001b[0;36mget_district_candidates\u001b[1;34m(state, district, year)\u001b[0m\n\u001b[0;32m     46\u001b[0m         \u001b[1;32mexcept\u001b[0m\u001b[1;33m:\u001b[0m\u001b[1;33m\u001b[0m\u001b[1;33m\u001b[0m\u001b[0m\n\u001b[0;32m     47\u001b[0m             \u001b[0mprint\u001b[0m\u001b[1;33m(\u001b[0m\u001b[0mresponse\u001b[0m\u001b[1;33m.\u001b[0m\u001b[0mheaders\u001b[0m\u001b[1;33m)\u001b[0m \u001b[1;31m#prints out the header to help troubleshoot HTTP errors\u001b[0m\u001b[1;33m\u001b[0m\u001b[1;33m\u001b[0m\u001b[0m\n\u001b[1;32m---> 48\u001b[1;33m         \u001b[0mcandidates\u001b[0m\u001b[1;33m[\u001b[0m\u001b[1;34m'state'\u001b[0m\u001b[1;33m]\u001b[0m \u001b[1;33m=\u001b[0m \u001b[0mstate\u001b[0m\u001b[1;33m\u001b[0m\u001b[1;33m\u001b[0m\u001b[0m\n\u001b[0m\u001b[0;32m     49\u001b[0m         \u001b[0mcandidates\u001b[0m\u001b[1;33m[\u001b[0m\u001b[1;34m'district'\u001b[0m\u001b[1;33m]\u001b[0m \u001b[1;33m=\u001b[0m \u001b[0mdistrict\u001b[0m\u001b[1;33m\u001b[0m\u001b[1;33m\u001b[0m\u001b[0m\n\u001b[0;32m     50\u001b[0m         \u001b[0mcandidates\u001b[0m\u001b[1;33m[\u001b[0m\u001b[1;34m'year'\u001b[0m\u001b[1;33m]\u001b[0m \u001b[1;33m=\u001b[0m \u001b[0myear\u001b[0m\u001b[1;33m\u001b[0m\u001b[1;33m\u001b[0m\u001b[0m\n",
      "\u001b[1;31mUnboundLocalError\u001b[0m: local variable 'candidates' referenced before assignment"
     ]
    }
   ],
   "source": [
    "get_all_reps_time(districts, 'Code', 'representatives', '2016')"
   ]
  },
  {
   "cell_type": "code",
   "execution_count": null,
   "id": "4e18970b",
   "metadata": {},
   "outputs": [],
   "source": []
  }
 ],
 "metadata": {
  "kernelspec": {
   "display_name": "Python 3 (ipykernel)",
   "language": "python",
   "name": "python3"
  },
  "language_info": {
   "codemirror_mode": {
    "name": "ipython",
    "version": 3
   },
   "file_extension": ".py",
   "mimetype": "text/x-python",
   "name": "python",
   "nbconvert_exporter": "python",
   "pygments_lexer": "ipython3",
   "version": "3.8.11"
  }
 },
 "nbformat": 4,
 "nbformat_minor": 5
}
