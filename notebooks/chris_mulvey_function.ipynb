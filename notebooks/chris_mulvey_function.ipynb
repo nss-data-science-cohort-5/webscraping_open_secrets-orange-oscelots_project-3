{
 "cells": [
  {
   "cell_type": "markdown",
   "id": "4b12fef1",
   "metadata": {},
   "source": [
    "Notebook created on 16 October 2021 by Chris Mulvey  \n",
    "For NSS Data Science Bootcamp"
   ]
  },
  {
   "cell_type": "code",
   "execution_count": 42,
   "id": "95719c93",
   "metadata": {},
   "outputs": [],
   "source": [
    "import pandas as pd\n",
    "import numpy as np\n",
    "import matplotlib.pyplot as plt\n",
    "import requests\n",
    "from bs4 import BeautifulSoup as BS\n",
    "from tqdm.notebook import tqdm\n",
    "import time"
   ]
  },
  {
   "cell_type": "markdown",
   "id": "a1302a8d",
   "metadata": {},
   "source": [
    "### Working out a function to get all of the districts in a state"
   ]
  },
  {
   "cell_type": "markdown",
   "id": "26a65496",
   "metadata": {},
   "source": [
    "#### Reading in state and district info from a previous webscrape"
   ]
  },
  {
   "cell_type": "code",
   "execution_count": 28,
   "id": "511debb2",
   "metadata": {},
   "outputs": [
    {
     "data": {
      "text/html": [
       "<div>\n",
       "<style scoped>\n",
       "    .dataframe tbody tr th:only-of-type {\n",
       "        vertical-align: middle;\n",
       "    }\n",
       "\n",
       "    .dataframe tbody tr th {\n",
       "        vertical-align: top;\n",
       "    }\n",
       "\n",
       "    .dataframe thead th {\n",
       "        text-align: right;\n",
       "    }\n",
       "</style>\n",
       "<table border=\"1\" class=\"dataframe\">\n",
       "  <thead>\n",
       "    <tr style=\"text-align: right;\">\n",
       "      <th></th>\n",
       "      <th>state</th>\n",
       "      <th>representatives</th>\n",
       "      <th>Code</th>\n",
       "    </tr>\n",
       "  </thead>\n",
       "  <tbody>\n",
       "    <tr>\n",
       "      <th>0</th>\n",
       "      <td>Alabama</td>\n",
       "      <td>7</td>\n",
       "      <td>AL</td>\n",
       "    </tr>\n",
       "    <tr>\n",
       "      <th>1</th>\n",
       "      <td>Alaska</td>\n",
       "      <td>1</td>\n",
       "      <td>AK</td>\n",
       "    </tr>\n",
       "    <tr>\n",
       "      <th>2</th>\n",
       "      <td>Arizona</td>\n",
       "      <td>9</td>\n",
       "      <td>AZ</td>\n",
       "    </tr>\n",
       "    <tr>\n",
       "      <th>3</th>\n",
       "      <td>Arkansas</td>\n",
       "      <td>4</td>\n",
       "      <td>AR</td>\n",
       "    </tr>\n",
       "    <tr>\n",
       "      <th>4</th>\n",
       "      <td>California</td>\n",
       "      <td>53</td>\n",
       "      <td>CA</td>\n",
       "    </tr>\n",
       "  </tbody>\n",
       "</table>\n",
       "</div>"
      ],
      "text/plain": [
       "        state  representatives Code\n",
       "0     Alabama                7   AL\n",
       "1      Alaska                1   AK\n",
       "2     Arizona                9   AZ\n",
       "3    Arkansas                4   AR\n",
       "4  California               53   CA"
      ]
     },
     "execution_count": 28,
     "metadata": {},
     "output_type": "execute_result"
    }
   ],
   "source": [
    "districts = pd.read_csv('../data/district_info.csv')\n",
    "\n",
    "districts.head()"
   ]
  },
  {
   "cell_type": "markdown",
   "id": "b445f975",
   "metadata": {},
   "source": [
    "### The URL has state and district number in it `id=TN02`"
   ]
  },
  {
   "cell_type": "code",
   "execution_count": null,
   "id": "cafe3f96",
   "metadata": {},
   "outputs": [],
   "source": [
    "url = 'https://www.opensecrets.org/races/summary?cycle=2020&id=TN02&spec=N'"
   ]
  },
  {
   "cell_type": "code",
   "execution_count": null,
   "id": "8e69e28b",
   "metadata": {},
   "outputs": [],
   "source": [
    "url = 'https://www.opensecrets.org/races/summary?cycle=2020&id='+ state + district'&spec=N'"
   ]
  },
  {
   "cell_type": "markdown",
   "id": "da95cd70",
   "metadata": {},
   "source": [
    "### Function to get candidate info for a single state and district"
   ]
  },
  {
   "cell_type": "code",
   "execution_count": 45,
   "id": "75661b26",
   "metadata": {},
   "outputs": [],
   "source": [
    "def get_district_candidates(state, district):\n",
    "    url = 'https://www.opensecrets.org/races/summary?cycle=2020&id='+ state + district + '&spec=N'\n",
    "    response = requests.get(url)\n",
    "    soup = BS(response.text)\n",
    "    try:\n",
    "        candidates = pd.read_html(str(soup.find('table')))[0]\n",
    "    except:\n",
    "        print(response.headers)\n",
    "    candidates['state'] = state\n",
    "    candidates['district'] = district\n",
    "    \n",
    "    return candidates"
   ]
  },
  {
   "cell_type": "code",
   "execution_count": 34,
   "id": "a93a406e",
   "metadata": {},
   "outputs": [
    {
     "data": {
      "text/html": [
       "<div>\n",
       "<style scoped>\n",
       "    .dataframe tbody tr th:only-of-type {\n",
       "        vertical-align: middle;\n",
       "    }\n",
       "\n",
       "    .dataframe tbody tr th {\n",
       "        vertical-align: top;\n",
       "    }\n",
       "\n",
       "    .dataframe thead th {\n",
       "        text-align: right;\n",
       "    }\n",
       "</style>\n",
       "<table border=\"1\" class=\"dataframe\">\n",
       "  <thead>\n",
       "    <tr style=\"text-align: right;\">\n",
       "      <th></th>\n",
       "      <th>Candidate</th>\n",
       "      <th>Raised</th>\n",
       "      <th>Spent</th>\n",
       "      <th>Cash on Hand</th>\n",
       "      <th>Last Report</th>\n",
       "      <th>state</th>\n",
       "      <th>district</th>\n",
       "    </tr>\n",
       "  </thead>\n",
       "  <tbody>\n",
       "    <tr>\n",
       "      <th>0</th>\n",
       "      <td>Chuck Fleischmann (R)  • Incumbent • Winner</td>\n",
       "      <td>$1,051,653</td>\n",
       "      <td>$381,411</td>\n",
       "      <td>$1,880,341</td>\n",
       "      <td>12/31/2020</td>\n",
       "      <td>TN</td>\n",
       "      <td>03</td>\n",
       "    </tr>\n",
       "    <tr>\n",
       "      <th>1</th>\n",
       "      <td>Meg Gorman (D)</td>\n",
       "      <td>$85,843</td>\n",
       "      <td>$77,760</td>\n",
       "      <td>$8,083</td>\n",
       "      <td>12/31/2020</td>\n",
       "      <td>TN</td>\n",
       "      <td>03</td>\n",
       "    </tr>\n",
       "  </tbody>\n",
       "</table>\n",
       "</div>"
      ],
      "text/plain": [
       "                                     Candidate      Raised     Spent  \\\n",
       "0  Chuck Fleischmann (R)  • Incumbent • Winner  $1,051,653  $381,411   \n",
       "1                               Meg Gorman (D)     $85,843   $77,760   \n",
       "\n",
       "  Cash on Hand Last Report state district  \n",
       "0   $1,880,341  12/31/2020    TN       03  \n",
       "1       $8,083  12/31/2020    TN       03  "
      ]
     },
     "execution_count": 34,
     "metadata": {},
     "output_type": "execute_result"
    }
   ],
   "source": [
    "get_district_candidates('TN', str('0' + '3'))"
   ]
  },
  {
   "cell_type": "markdown",
   "id": "0f9b58dd",
   "metadata": {},
   "source": [
    "### Now to bring in more states"
   ]
  },
  {
   "cell_type": "code",
   "execution_count": 43,
   "id": "89e42b25",
   "metadata": {},
   "outputs": [
    {
     "data": {
      "application/vnd.jupyter.widget-view+json": {
       "model_id": "9a7a00c932ac4ff7bdd7e2e968afd2aa",
       "version_major": 2,
       "version_minor": 0
      },
      "text/plain": [
       "  0%|          | 0/50 [00:00<?, ?it/s]"
      ]
     },
     "metadata": {},
     "output_type": "display_data"
    }
   ],
   "source": [
    "state_dist = pd.DataFrame()\n",
    "\n",
    "for index in tqdm(districts.index):\n",
    "    state = districts['Code'][index]\n",
    "    dist_no = districts['representatives'][index]\n",
    "    \n",
    "    if index == 10:\n",
    "        time.sleep(70)\n",
    "    elif index == 20:\n",
    "        time.sleep(70)\n",
    "    elif index == 30:\n",
    "        time.sleep(70)\n",
    "    elif index == 40:\n",
    "        time.sleep(70)\n",
    "    \n",
    "    for i in range(1, dist_no + 1):\n",
    "        if i < 10:\n",
    "            i = '0' + str(i)\n",
    "            \n",
    "        state_dist = state_dist.append(get_district_candidates(str(state), str(i)),\n",
    "                                      ignore_index = True)\n",
    "            "
   ]
  },
  {
   "cell_type": "code",
   "execution_count": 46,
   "id": "7e9749de",
   "metadata": {},
   "outputs": [
    {
     "name": "stdout",
     "output_type": "stream",
     "text": [
      "<class 'pandas.core.frame.DataFrame'>\n",
      "RangeIndex: 894 entries, 0 to 893\n",
      "Data columns (total 7 columns):\n",
      " #   Column        Non-Null Count  Dtype \n",
      "---  ------        --------------  ----- \n",
      " 0   Candidate     894 non-null    object\n",
      " 1   Raised        894 non-null    object\n",
      " 2   Spent         894 non-null    object\n",
      " 3   Cash on Hand  894 non-null    object\n",
      " 4   Last Report   894 non-null    object\n",
      " 5   state         894 non-null    object\n",
      " 6   district      894 non-null    object\n",
      "dtypes: object(7)\n",
      "memory usage: 49.0+ KB\n"
     ]
    }
   ],
   "source": [
    "state_dist.info()"
   ]
  },
  {
   "cell_type": "code",
   "execution_count": 49,
   "id": "110ed4c5",
   "metadata": {},
   "outputs": [],
   "source": [
    "state_dist.to_csv('../data/all_state.csv',\n",
    "                 index = False)"
   ]
  },
  {
   "cell_type": "markdown",
   "id": "97c8f577",
   "metadata": {},
   "source": [
    "### Troubleshooting error"
   ]
  },
  {
   "cell_type": "code",
   "execution_count": 18,
   "id": "e4e3559a",
   "metadata": {},
   "outputs": [
    {
     "data": {
      "text/plain": [
       "state              Utah\n",
       "representatives       4\n",
       "Name: 43, dtype: object"
      ]
     },
     "execution_count": 18,
     "metadata": {},
     "output_type": "execute_result"
    }
   ],
   "source": [
    "districts.loc[43]"
   ]
  },
  {
   "cell_type": "code",
   "execution_count": null,
   "id": "3614e6d0",
   "metadata": {},
   "outputs": [],
   "source": [
    "for i in range(1, 4):\n",
    "    if i < 10:\n",
    "        i = '0' + str(i)\n",
    "        \n",
    "    print(get_district_candidates('UT', str(i)))"
   ]
  },
  {
   "cell_type": "code",
   "execution_count": 26,
   "id": "4a019e95",
   "metadata": {},
   "outputs": [
    {
     "name": "stdout",
     "output_type": "stream",
     "text": [
      "03\n"
     ]
    }
   ],
   "source": [
    "i = 3\n",
    "\n",
    "if i < 10:\n",
    "    i = '0' + str(i)\n",
    "    print(str(i))"
   ]
  },
  {
   "cell_type": "code",
   "execution_count": null,
   "id": "64144dac",
   "metadata": {},
   "outputs": [],
   "source": []
  }
 ],
 "metadata": {
  "kernelspec": {
   "display_name": "Python 3 (ipykernel)",
   "language": "python",
   "name": "python3"
  },
  "language_info": {
   "codemirror_mode": {
    "name": "ipython",
    "version": 3
   },
   "file_extension": ".py",
   "mimetype": "text/x-python",
   "name": "python",
   "nbconvert_exporter": "python",
   "pygments_lexer": "ipython3",
   "version": "3.8.11"
  }
 },
 "nbformat": 4,
 "nbformat_minor": 5
}
