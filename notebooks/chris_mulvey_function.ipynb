{
 "cells": [
  {
   "cell_type": "markdown",
   "id": "7af5dd04",
   "metadata": {},
   "source": [
    "Notebook created on 16 October 2021 by Chris Mulvey  \n",
    "For NSS Data Science Bootcamp"
   ]
  },
  {
   "cell_type": "code",
   "execution_count": 1,
   "id": "9424e324",
   "metadata": {},
   "outputs": [],
   "source": [
    "import pandas as pd\n",
    "import numpy as np\n",
    "import matplotlib.pyplot as plt\n",
    "import requests\n",
    "from bs4 import BeautifulSoup as BS"
   ]
  },
  {
   "cell_type": "markdown",
   "id": "f49e1daa",
   "metadata": {},
   "source": [
    "### Working out a function to get all of the districts in a state"
   ]
  },
  {
   "cell_type": "markdown",
   "id": "4220e6a6",
   "metadata": {},
   "source": [
    "#### Reading in state and district info from a previous webscrape"
   ]
  },
  {
   "cell_type": "code",
   "execution_count": 3,
   "id": "983fb4ea",
   "metadata": {},
   "outputs": [
    {
     "data": {
      "text/html": [
       "<div>\n",
       "<style scoped>\n",
       "    .dataframe tbody tr th:only-of-type {\n",
       "        vertical-align: middle;\n",
       "    }\n",
       "\n",
       "    .dataframe tbody tr th {\n",
       "        vertical-align: top;\n",
       "    }\n",
       "\n",
       "    .dataframe thead th {\n",
       "        text-align: right;\n",
       "    }\n",
       "</style>\n",
       "<table border=\"1\" class=\"dataframe\">\n",
       "  <thead>\n",
       "    <tr style=\"text-align: right;\">\n",
       "      <th></th>\n",
       "      <th>state</th>\n",
       "      <th>representatives</th>\n",
       "    </tr>\n",
       "  </thead>\n",
       "  <tbody>\n",
       "    <tr>\n",
       "      <th>0</th>\n",
       "      <td>Alabama</td>\n",
       "      <td>7</td>\n",
       "    </tr>\n",
       "    <tr>\n",
       "      <th>1</th>\n",
       "      <td>Alaska</td>\n",
       "      <td>1</td>\n",
       "    </tr>\n",
       "    <tr>\n",
       "      <th>2</th>\n",
       "      <td>Arizona</td>\n",
       "      <td>9</td>\n",
       "    </tr>\n",
       "    <tr>\n",
       "      <th>3</th>\n",
       "      <td>Arkansas</td>\n",
       "      <td>4</td>\n",
       "    </tr>\n",
       "    <tr>\n",
       "      <th>4</th>\n",
       "      <td>California</td>\n",
       "      <td>53</td>\n",
       "    </tr>\n",
       "  </tbody>\n",
       "</table>\n",
       "</div>"
      ],
      "text/plain": [
       "        state  representatives\n",
       "0     Alabama                7\n",
       "1      Alaska                1\n",
       "2     Arizona                9\n",
       "3    Arkansas                4\n",
       "4  California               53"
      ]
     },
     "execution_count": 3,
     "metadata": {},
     "output_type": "execute_result"
    }
   ],
   "source": [
    "districts = pd.read_csv('../data/district_info.csv')\n",
    "\n",
    "districts.head()"
   ]
  },
  {
   "cell_type": "markdown",
   "id": "8b9e79d4",
   "metadata": {},
   "source": [
    "### The URL has state and district number in it `id=TN02`"
   ]
  },
  {
   "cell_type": "code",
   "execution_count": null,
   "id": "7528dba4",
   "metadata": {},
   "outputs": [],
   "source": [
    "url = 'https://www.opensecrets.org/races/summary?cycle=2020&id=TN02&spec=N'"
   ]
  },
  {
   "cell_type": "code",
   "execution_count": null,
   "id": "16f34e93",
   "metadata": {},
   "outputs": [],
   "source": [
    "url = 'https://www.opensecrets.org/races/summary?cycle=2020&id='+ state + district'&spec=N'"
   ]
  },
  {
   "cell_type": "markdown",
   "id": "e6cb99ce",
   "metadata": {},
   "source": [
    "### Function to get candidate info for a single state and district"
   ]
  },
  {
   "cell_type": "code",
   "execution_count": 13,
   "id": "3b943522",
   "metadata": {},
   "outputs": [],
   "source": [
    "def get_district_candidates(state, district):\n",
    "    url = 'https://www.opensecrets.org/races/summary?cycle=2020&id='+ state + district + '&spec=N'\n",
    "    response = requests.get(url)\n",
    "    soup = BS(response.text)\n",
    "    candidates = pd.read_html(str(soup.find('table')))[0]\n",
    "    candidates['state'] = state\n",
    "    candidates['district'] = district\n",
    "    \n",
    "    return candidates"
   ]
  },
  {
   "cell_type": "code",
   "execution_count": 16,
   "id": "4c6e2bdc",
   "metadata": {},
   "outputs": [
    {
     "data": {
      "text/html": [
       "<div>\n",
       "<style scoped>\n",
       "    .dataframe tbody tr th:only-of-type {\n",
       "        vertical-align: middle;\n",
       "    }\n",
       "\n",
       "    .dataframe tbody tr th {\n",
       "        vertical-align: top;\n",
       "    }\n",
       "\n",
       "    .dataframe thead th {\n",
       "        text-align: right;\n",
       "    }\n",
       "</style>\n",
       "<table border=\"1\" class=\"dataframe\">\n",
       "  <thead>\n",
       "    <tr style=\"text-align: right;\">\n",
       "      <th></th>\n",
       "      <th>Candidate</th>\n",
       "      <th>Raised</th>\n",
       "      <th>Spent</th>\n",
       "      <th>Cash on Hand</th>\n",
       "      <th>Last Report</th>\n",
       "      <th>state</th>\n",
       "      <th>district</th>\n",
       "    </tr>\n",
       "  </thead>\n",
       "  <tbody>\n",
       "    <tr>\n",
       "      <th>0</th>\n",
       "      <td>Chuck Fleischmann (R)  • Incumbent • Winner</td>\n",
       "      <td>$1,051,653</td>\n",
       "      <td>$381,411</td>\n",
       "      <td>$1,880,341</td>\n",
       "      <td>12/31/2020</td>\n",
       "      <td>TN</td>\n",
       "      <td>03</td>\n",
       "    </tr>\n",
       "    <tr>\n",
       "      <th>1</th>\n",
       "      <td>Meg Gorman (D)</td>\n",
       "      <td>$85,843</td>\n",
       "      <td>$77,760</td>\n",
       "      <td>$8,083</td>\n",
       "      <td>12/31/2020</td>\n",
       "      <td>TN</td>\n",
       "      <td>03</td>\n",
       "    </tr>\n",
       "  </tbody>\n",
       "</table>\n",
       "</div>"
      ],
      "text/plain": [
       "                                     Candidate      Raised     Spent  \\\n",
       "0  Chuck Fleischmann (R)  • Incumbent • Winner  $1,051,653  $381,411   \n",
       "1                               Meg Gorman (D)     $85,843   $77,760   \n",
       "\n",
       "  Cash on Hand Last Report state district  \n",
       "0   $1,880,341  12/31/2020    TN       03  \n",
       "1       $8,083  12/31/2020    TN       03  "
      ]
     },
     "execution_count": 16,
     "metadata": {},
     "output_type": "execute_result"
    }
   ],
   "source": [
    "get_district_candidates('TN', '03')"
   ]
  },
  {
   "cell_type": "code",
   "execution_count": null,
   "id": "27dfa6f6",
   "metadata": {},
   "outputs": [],
   "source": []
  },
  {
   "cell_type": "code",
   "execution_count": null,
   "id": "7e869624",
   "metadata": {},
   "outputs": [],
   "source": []
  },
  {
   "cell_type": "code",
   "execution_count": null,
   "id": "19d806f8",
   "metadata": {},
   "outputs": [],
   "source": [
    "for index in districts.index:\n",
    "    state = districts['state'][index]\n",
    "    district = districts['representatives'][index]\n",
    "    "
   ]
  },
  {
   "cell_type": "code",
   "execution_count": null,
   "id": "28f9ff3b",
   "metadata": {},
   "outputs": [],
   "source": []
  }
 ],
 "metadata": {
  "kernelspec": {
   "display_name": "Python 3 (ipykernel)",
   "language": "python",
   "name": "python3"
  },
  "language_info": {
   "codemirror_mode": {
    "name": "ipython",
    "version": 3
   },
   "file_extension": ".py",
   "mimetype": "text/x-python",
   "name": "python",
   "nbconvert_exporter": "python",
   "pygments_lexer": "ipython3",
   "version": "3.8.11"
  }
 },
 "nbformat": 4,
 "nbformat_minor": 5
}
